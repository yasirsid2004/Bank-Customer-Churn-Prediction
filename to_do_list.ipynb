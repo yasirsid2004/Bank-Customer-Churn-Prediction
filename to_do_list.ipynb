{
  "nbformat": 4,
  "nbformat_minor": 0,
  "metadata": {
    "colab": {
      "provenance": [],
      "authorship_tag": "ABX9TyNeYjBKRrH1oklJgNVdpEox",
      "include_colab_link": true
    },
    "kernelspec": {
      "name": "python3",
      "display_name": "Python 3"
    },
    "language_info": {
      "name": "python"
    }
  },
  "cells": [
    {
      "cell_type": "markdown",
      "metadata": {
        "id": "view-in-github",
        "colab_type": "text"
      },
      "source": [
        "<a href=\"https://colab.research.google.com/github/yasirsid2004/Bank-Customer-Churn-Prediction/blob/main/to_do_list.ipynb\" target=\"_parent\"><img src=\"https://colab.research.google.com/assets/colab-badge.svg\" alt=\"Open In Colab\"/></a>"
      ]
    },
    {
      "cell_type": "code",
      "execution_count": 2,
      "metadata": {
        "colab": {
          "base_uri": "https://localhost:8080/"
        },
        "id": "o63aLlxf9ESX",
        "outputId": "5e9b8e0d-995c-4a7a-b83e-248c9f958352"
      },
      "outputs": [
        {
          "output_type": "stream",
          "name": "stdout",
          "text": [
            "Welcome to Yasir's To-Do List App!\n"
          ]
        }
      ],
      "source": [
        "# To-Do List App in Python\n",
        "# Author: Yasir Siddiqui\n",
        "\n",
        "print(\"Welcome to Yasir's To-Do List App!\")\n"
      ]
    },
    {
      "cell_type": "code",
      "source": [
        "# Global list to store tasks\n",
        "tasks = []\n"
      ],
      "metadata": {
        "id": "7KJpWY5p9L70"
      },
      "execution_count": 3,
      "outputs": []
    },
    {
      "cell_type": "code",
      "source": [
        "def show_tasks():\n",
        "    if len(tasks) == 0:\n",
        "        print(\"\\nNo tasks in your To-Do List.\")\n",
        "    else:\n",
        "        print(\"\\nYour To-Do List:\")\n",
        "        for i, task in enumerate(tasks, start=1):\n",
        "            print(f\"{i}. {task}\")\n"
      ],
      "metadata": {
        "id": "oNGObzz29N_h"
      },
      "execution_count": 4,
      "outputs": []
    },
    {
      "cell_type": "code",
      "source": [
        "def add_task():\n",
        "    task = input(\"Enter a new task: \")\n",
        "    tasks.append(task)\n",
        "    print(f\"Task '{task}' added successfully!\")\n"
      ],
      "metadata": {
        "id": "otA1EXf69SsN"
      },
      "execution_count": 5,
      "outputs": []
    },
    {
      "cell_type": "code",
      "source": [
        "def update_task():\n",
        "    show_tasks()\n",
        "    if len(tasks) == 0:\n",
        "        return\n",
        "    try:\n",
        "        task_num = int(input(\"Enter task number to update: \"))\n",
        "        if 1 <= task_num <= len(tasks):\n",
        "            new_task = input(\"Enter updated task: \")\n",
        "            tasks[task_num - 1] = new_task\n",
        "            print(\"Task updated successfully!\")\n",
        "        else:\n",
        "            print(\"Invalid task number.\")\n",
        "    except ValueError:\n",
        "        print(\"Please enter a valid number.\")\n"
      ],
      "metadata": {
        "id": "zFmU9sUc9XX4"
      },
      "execution_count": 6,
      "outputs": []
    },
    {
      "cell_type": "code",
      "source": [
        "def delete_task():\n",
        "    show_tasks()\n",
        "    if len(tasks) == 0:\n",
        "        return\n",
        "    try:\n",
        "        task_num = int(input(\"Enter task number to delete: \"))\n",
        "        if 1 <= task_num <= len(tasks):\n",
        "            removed_task = tasks.pop(task_num - 1)\n",
        "            print(f\"Task '{removed_task}' deleted successfully!\")\n",
        "        else:\n",
        "            print(\"Invalid task number.\")\n",
        "    except ValueError:\n",
        "        print(\"Please enter a valid number.\")\n"
      ],
      "metadata": {
        "id": "DOAsaxBU9ZHN"
      },
      "execution_count": 7,
      "outputs": []
    },
    {
      "cell_type": "code",
      "source": [
        "def main():\n",
        "    while True:\n",
        "        print(\"\\n==== TO-DO LIST MENU ====\")\n",
        "        print(\"1. Show Tasks\")\n",
        "        print(\"2. Add Task\")\n",
        "        print(\"3. Update Task\")\n",
        "        print(\"4. Delete Task\")\n",
        "        print(\"5. Exit\")\n",
        "\n",
        "        choice = input(\"Enter your choice: \")\n",
        "\n",
        "        if choice == \"1\":\n",
        "            show_tasks()\n",
        "        elif choice == \"2\":\n",
        "            add_task()\n",
        "        elif choice == \"3\":\n",
        "            update_task()\n",
        "        elif choice == \"4\":\n",
        "            delete_task()\n",
        "        elif choice == \"5\":\n",
        "            print(\"Exiting To-Do List. Goodbye!\")\n",
        "            break\n",
        "        else:\n",
        "            print(\"Invalid choice. Please try again.\")\n",
        "\n",
        "# Run the app\n",
        "main()\n"
      ],
      "metadata": {
        "colab": {
          "base_uri": "https://localhost:8080/"
        },
        "id": "UgO50fsa9eYk",
        "outputId": "0c8a0e9b-e955-426a-8f9b-1542ba110b8b"
      },
      "execution_count": null,
      "outputs": [
        {
          "metadata": {
            "tags": null
          },
          "name": "stdout",
          "output_type": "stream",
          "text": [
            "\n",
            "==== TO-DO LIST MENU ====\n",
            "1. Show Tasks\n",
            "2. Add Task\n",
            "3. Update Task\n",
            "4. Delete Task\n",
            "5. Exit\n",
            "\n",
            "No tasks in your To-Do List.\n",
            "\n",
            "==== TO-DO LIST MENU ====\n",
            "1. Show Tasks\n",
            "2. Add Task\n",
            "3. Update Task\n",
            "4. Delete Task\n",
            "5. Exit\n",
            "Invalid choice. Please try again.\n",
            "\n",
            "==== TO-DO LIST MENU ====\n",
            "1. Show Tasks\n",
            "2. Add Task\n",
            "3. Update Task\n",
            "4. Delete Task\n",
            "5. Exit\n",
            "Task 'do my homework' added successfully!\n",
            "\n",
            "==== TO-DO LIST MENU ====\n",
            "1. Show Tasks\n",
            "2. Add Task\n",
            "3. Update Task\n",
            "4. Delete Task\n",
            "5. Exit\n",
            "\n",
            "Your To-Do List:\n",
            "1. do my homework\n",
            "\n",
            "==== TO-DO LIST MENU ====\n",
            "1. Show Tasks\n",
            "2. Add Task\n",
            "3. Update Task\n",
            "4. Delete Task\n",
            "5. Exit\n"
          ]
        }
      ]
    }
  ]
}